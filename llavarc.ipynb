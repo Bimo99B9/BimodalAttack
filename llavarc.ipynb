{
 "cells": [
  {
   "cell_type": "code",
   "execution_count": 1,
   "id": "084dc4a1",
   "metadata": {},
   "outputs": [
    {
     "name": "stderr",
     "output_type": "stream",
     "text": [
      "/home/dlopez/conda_envs/myenv/lib/python3.9/site-packages/tqdm/auto.py:21: TqdmWarning: IProgress not found. Please update jupyter and ipywidgets. See https://ipywidgets.readthedocs.io/en/stable/user_install.html\n",
      "  from .autonotebook import tqdm as notebook_tqdm\n",
      "You are attempting to use Flash Attention 2.0 with a model not initialized on GPU. Make sure to move the model to GPU after initializing it on CPU with `model.to('cuda')`.\n",
      "Loading checkpoint shards: 100%|██████████| 3/3 [00:00<00:00,  9.09it/s]\n",
      "Using a slow image processor as `use_fast` is unset and a slow processor was saved with this model. `use_fast=True` will be the default behavior in v4.52, even if the model was saved with a slow processor. This will result in minor differences in outputs. You'll still be able to use a slow processor with `use_fast=False`.\n"
     ]
    },
    {
     "name": "stdout",
     "output_type": "stream",
     "text": [
      "USER:  \n",
      "What do you see in this image?\n",
      "ASSISTANT: The image features two cats lying down on a pink couch. One cat is positioned on the left side of the couch, while the other cat is on the right side. The cats appear to be relaxed and enjoying\n"
     ]
    }
   ],
   "source": [
    "import torch\n",
    "from transformers import (\n",
    "    LlavaForConditionalGeneration,\n",
    "    AutoProcessor,\n",
    "    CLIPVisionModel,\n",
    "    CLIPImageProcessor,\n",
    ")\n",
    "from PIL import Image\n",
    "import requests\n",
    "\n",
    "device = \"cuda:0\" if torch.cuda.is_available() else \"cpu\"\n",
    "\n",
    "model_id = \"llava-hf/llava-1.5-7b-hf\"\n",
    "llava = LlavaForConditionalGeneration.from_pretrained(\n",
    "    model_id,\n",
    "    torch_dtype=torch.float16,\n",
    "    low_cpu_mem_usage=True,\n",
    "    attn_implementation=\"flash_attention_2\",\n",
    ").to(device)\n",
    "\n",
    "clip_model_id = \"RCLIP/CLIP-ViT-L-FARE2\"\n",
    "clip_vision = CLIPVisionModel.from_pretrained(\n",
    "    clip_model_id, torch_dtype=torch.float16\n",
    ").to(device)\n",
    "llava.vision_tower = clip_vision\n",
    "llava.vision_tower.requires_grad_(False)\n",
    "\n",
    "processor = AutoProcessor.from_pretrained(model_id)\n",
    "robust_img_proc = CLIPImageProcessor.from_pretrained(\"openai/clip-vit-large-patch14\")\n",
    "robust_img_proc.size = {\n",
    "    \"height\": clip_vision.config.image_size,\n",
    "    \"width\": clip_vision.config.image_size,\n",
    "}\n",
    "processor.image_processor = robust_img_proc\n",
    "\n",
    "url = \"http://images.cocodataset.org/val2017/000000039769.jpg\"\n",
    "img = Image.open(requests.get(url, stream=True).raw).convert(\"RGB\")\n",
    "\n",
    "prompt = \"USER: <image>\\nWhat do you see in this image?\\nASSISTANT:\"\n",
    "inputs = processor(text=prompt, images=img, return_tensors=\"pt\").to(device)\n",
    "\n",
    "with torch.no_grad():\n",
    "    out_ids = llava.generate(**inputs, max_new_tokens=50, do_sample=False)\n",
    "\n",
    "print(processor.tokenizer.decode(out_ids[0], skip_special_tokens=True))"
   ]
  }
 ],
 "metadata": {
  "kernelspec": {
   "display_name": "myenv",
   "language": "python",
   "name": "python3"
  },
  "language_info": {
   "codemirror_mode": {
    "name": "ipython",
    "version": 3
   },
   "file_extension": ".py",
   "mimetype": "text/x-python",
   "name": "python",
   "nbconvert_exporter": "python",
   "pygments_lexer": "ipython3",
   "version": "3.9.21"
  }
 },
 "nbformat": 4,
 "nbformat_minor": 5
}
